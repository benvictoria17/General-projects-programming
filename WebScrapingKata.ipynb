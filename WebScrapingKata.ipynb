{
 "cells": [
  {
   "cell_type": "code",
   "execution_count": 17,
   "metadata": {
    "collapsed": true
   },
   "outputs": [],
   "source": [
    "from urllib.request import urlopen\n",
    "from bs4 import BeautifulSoup"
   ]
  },
  {
   "cell_type": "code",
   "execution_count": 14,
   "metadata": {
    "collapsed": true
   },
   "outputs": [],
   "source": [
    "def get_member_since(username):\n",
    "    page = urlopen('https://www.codewars.com/users/' + username)\n",
    "    soup = BeautifulSoup(page, 'html.parser')\n",
    "    \n",
    "    for i in soup.select('.stat'):\n",
    "        if (\"Member Since\" in i.text.strip()):\n",
    "            text = i.text.strip()\n",
    "            final = text[13:]\n",
    "            return final"
   ]
  },
  {
   "cell_type": "code",
   "execution_count": 30,
   "metadata": {
    "collapsed": true
   },
   "outputs": [],
   "source": [
    "def get_honor(username):\n",
    "    page = urlopen('https://www.codewars.com/users/' + username)\n",
    "    soup = BeautifulSoup(page, 'html.parser')\n",
    "    \n",
    "    for i in soup.select('.stat'):\n",
    "        if (\"Honor\" in i.text.strip()):\n",
    "            text = i.text.strip()\n",
    "            final = int(text[6:].replace(',', ''))\n",
    "            return final"
   ]
  },
  {
   "cell_type": "code",
   "execution_count": 32,
   "metadata": {},
   "outputs": [
    {
     "data": {
      "text/plain": [
       "271"
      ]
     },
     "execution_count": 32,
     "metadata": {},
     "output_type": "execute_result"
    }
   ],
   "source": [
    "get_honor('Jason7')"
   ]
  }
 ],
 "metadata": {
  "kernelspec": {
   "display_name": "Python 3",
   "language": "python",
   "name": "python3"
  },
  "language_info": {
   "codemirror_mode": {
    "name": "ipython",
    "version": 3
   },
   "file_extension": ".py",
   "mimetype": "text/x-python",
   "name": "python",
   "nbconvert_exporter": "python",
   "pygments_lexer": "ipython3",
   "version": "3.6.1"
  }
 },
 "nbformat": 4,
 "nbformat_minor": 2
}
