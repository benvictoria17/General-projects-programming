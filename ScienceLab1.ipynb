{
 "cells": [
  {
   "cell_type": "code",
   "execution_count": 176,
   "metadata": {},
   "outputs": [
    {
     "name": "stdout",
     "output_type": "stream",
     "text": [
      "70 30\n",
      "53 47\n",
      "43 57\n",
      "32 68\n",
      "27 73\n",
      "19 81\n",
      "16 84\n",
      "13 87\n",
      "9 91\n",
      "6 94\n",
      "5 95\n",
      "3 97\n",
      "3 97\n",
      "3 97\n",
      "2 98\n",
      "1 99\n",
      "1 99\n",
      "0 100\n",
      "Times: 18\n"
     ]
    }
   ],
   "source": [
    "import random\n",
    "\n",
    "parents = 100\n",
    "daughters = 0\n",
    "times = 0\n",
    "\n",
    "while (parents > 0):\n",
    "    for _ in range(parents):\n",
    "        direction = random.choice([0,1,2,3])\n",
    "        if (direction == 0):\n",
    "            daughters += 1\n",
    "            parents -= 1\n",
    "    times += 1\n",
    "    print(parents, daughters)\n",
    "print(\"Times:\", times)"
   ]
  }
 ],
 "metadata": {
  "kernelspec": {
   "display_name": "Python 3",
   "language": "python",
   "name": "python3"
  },
  "language_info": {
   "codemirror_mode": {
    "name": "ipython",
    "version": 3
   },
   "file_extension": ".py",
   "mimetype": "text/x-python",
   "name": "python",
   "nbconvert_exporter": "python",
   "pygments_lexer": "ipython3",
   "version": "3.6.1"
  }
 },
 "nbformat": 4,
 "nbformat_minor": 2
}
