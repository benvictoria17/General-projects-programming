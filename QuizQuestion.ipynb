{
 "cells": [
  {
   "cell_type": "code",
   "execution_count": 17,
   "metadata": {},
   "outputs": [
    {
     "name": "stdout",
     "output_type": "stream",
     "text": [
      "['Bob', 'Jason', 'Benjamin', 'Sam', 'Tom']\n",
      "['Bob', 'Bob', 'Jason', 'Benjamin', 'Sam']\n",
      "['Bob', 'Bob', 'Bob', 'Jason', 'Benjamin']\n",
      "['Bob', 'Bob', 'Bob', 'Bob', 'Jason']\n",
      "['Bob', 'Bob', 'Bob', 'Bob', 'Bob']\n"
     ]
    }
   ],
   "source": [
    "alist = [\"Bob\",\"Jason\",\"Benjamin\",\"Sam\",\"Tom\"]\n",
    "first = alist[0]\n",
    "\n",
    "for i in range(1,len(alist)+1):\n",
    "    newList = []\n",
    "    for j in range(0,i):\n",
    "        newList.append(first)\n",
    "    \n",
    "    for x in range(1,len(alist)-i+1):\n",
    "        newList.append(alist[x])\n",
    "        \n",
    "    print(newList)"
   ]
  },
  {
   "cell_type": "code",
   "execution_count": 33,
   "metadata": {},
   "outputs": [
    {
     "name": "stdout",
     "output_type": "stream",
     "text": [
      "['Bob', 'Jason', 'Benjamin', 'Sam', 'Tom']\n",
      "['Jason', 'Benjamin', 'Sam', 'Tom', 'Tom']\n",
      "['Benjamin', 'Sam', 'Tom', 'Tom', 'Tom']\n",
      "['Sam', 'Tom', 'Tom', 'Tom', 'Tom']\n",
      "['Tom', 'Tom', 'Tom', 'Tom', 'Tom']\n"
     ]
    }
   ],
   "source": [
    "alist = [\"Bob\",\"Jason\",\"Benjamin\",\"Sam\",\"Tom\"]\n",
    "\n",
    "flipped = []\n",
    "for e in reversed(alist):\n",
    "    flipped.append(e)\n",
    "first = flipped[0]\n",
    "\n",
    "for i in range(1,len(flipped)+1):\n",
    "    newList = []\n",
    "    for j in range(0,i):\n",
    "        newList.append(first)\n",
    "    \n",
    "    for x in range(1,len(flipped)-i+1):\n",
    "        newList.append(flipped[x])\n",
    "    \n",
    "    print(list(reversed(newList)))"
   ]
  }
 ],
 "metadata": {
  "kernelspec": {
   "display_name": "Python 3",
   "language": "python",
   "name": "python3"
  },
  "language_info": {
   "codemirror_mode": {
    "name": "ipython",
    "version": 3
   },
   "file_extension": ".py",
   "mimetype": "text/x-python",
   "name": "python",
   "nbconvert_exporter": "python",
   "pygments_lexer": "ipython3",
   "version": "3.6.1"
  }
 },
 "nbformat": 4,
 "nbformat_minor": 2
}
