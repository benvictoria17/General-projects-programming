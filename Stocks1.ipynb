{
 "cells": [
  {
   "cell_type": "code",
   "execution_count": 119,
   "metadata": {
    "collapsed": true
   },
   "outputs": [],
   "source": [
    "import pandas as pd\n",
    "import matplotlib.pyplot as plt\n",
    "import os.path\n",
    "import pandas_datareader as pdr\n",
    "import numpy as np"
   ]
  },
  {
   "cell_type": "code",
   "execution_count": 13,
   "metadata": {
    "collapsed": true
   },
   "outputs": [
    {
     "ename": "FileNotFoundError",
     "evalue": "File b'HCP.csv' does not exist",
     "output_type": "error",
     "traceback": [
      "\u001b[1;31m---------------------------------------------------------------------------\u001b[0m",
      "\u001b[1;31mFileNotFoundError\u001b[0m                         Traceback (most recent call last)",
      "\u001b[1;32m<ipython-input-13-0dac5c86456e>\u001b[0m in \u001b[0;36m<module>\u001b[1;34m()\u001b[0m\n\u001b[0;32m      3\u001b[0m     \u001b[0mprint\u001b[0m\u001b[1;33m(\u001b[0m\u001b[0mdf\u001b[0m\u001b[1;33m[\u001b[0m\u001b[1;36m10\u001b[0m\u001b[1;33m:\u001b[0m\u001b[1;36m21\u001b[0m\u001b[1;33m]\u001b[0m\u001b[1;33m)\u001b[0m\u001b[1;33m\u001b[0m\u001b[0m\n\u001b[0;32m      4\u001b[0m \u001b[1;33m\u001b[0m\u001b[0m\n\u001b[1;32m----> 5\u001b[1;33m \u001b[0mtestRun\u001b[0m\u001b[1;33m(\u001b[0m\u001b[1;33m)\u001b[0m\u001b[1;33m\u001b[0m\u001b[0m\n\u001b[0m\u001b[0;32m      6\u001b[0m \u001b[1;33m\u001b[0m\u001b[0m\n\u001b[0;32m      7\u001b[0m \u001b[0mdf\u001b[0m \u001b[1;33m=\u001b[0m \u001b[0mpd\u001b[0m\u001b[1;33m.\u001b[0m\u001b[0mread_csv\u001b[0m\u001b[1;33m(\u001b[0m\u001b[1;34m\"HCP.csv\"\u001b[0m\u001b[1;33m)\u001b[0m\u001b[1;33m\u001b[0m\u001b[0m\n",
      "\u001b[1;32m<ipython-input-13-0dac5c86456e>\u001b[0m in \u001b[0;36mtestRun\u001b[1;34m()\u001b[0m\n\u001b[0;32m      1\u001b[0m \u001b[1;32mdef\u001b[0m \u001b[0mtestRun\u001b[0m\u001b[1;33m(\u001b[0m\u001b[1;33m)\u001b[0m\u001b[1;33m:\u001b[0m\u001b[1;33m\u001b[0m\u001b[0m\n\u001b[1;32m----> 2\u001b[1;33m     \u001b[0mdf\u001b[0m \u001b[1;33m=\u001b[0m \u001b[0mpd\u001b[0m\u001b[1;33m.\u001b[0m\u001b[0mread_csv\u001b[0m\u001b[1;33m(\u001b[0m\u001b[1;34m\"HCP.csv\"\u001b[0m\u001b[1;33m)\u001b[0m\u001b[1;33m\u001b[0m\u001b[0m\n\u001b[0m\u001b[0;32m      3\u001b[0m     \u001b[0mprint\u001b[0m\u001b[1;33m(\u001b[0m\u001b[0mdf\u001b[0m\u001b[1;33m[\u001b[0m\u001b[1;36m10\u001b[0m\u001b[1;33m:\u001b[0m\u001b[1;36m21\u001b[0m\u001b[1;33m]\u001b[0m\u001b[1;33m)\u001b[0m\u001b[1;33m\u001b[0m\u001b[0m\n\u001b[0;32m      4\u001b[0m \u001b[1;33m\u001b[0m\u001b[0m\n\u001b[0;32m      5\u001b[0m \u001b[0mtestRun\u001b[0m\u001b[1;33m(\u001b[0m\u001b[1;33m)\u001b[0m\u001b[1;33m\u001b[0m\u001b[0m\n",
      "\u001b[1;32mC:\\Users\\alex\\Anaconda3\\lib\\site-packages\\pandas\\io\\parsers.py\u001b[0m in \u001b[0;36mparser_f\u001b[1;34m(filepath_or_buffer, sep, delimiter, header, names, index_col, usecols, squeeze, prefix, mangle_dupe_cols, dtype, engine, converters, true_values, false_values, skipinitialspace, skiprows, nrows, na_values, keep_default_na, na_filter, verbose, skip_blank_lines, parse_dates, infer_datetime_format, keep_date_col, date_parser, dayfirst, iterator, chunksize, compression, thousands, decimal, lineterminator, quotechar, quoting, escapechar, comment, encoding, dialect, tupleize_cols, error_bad_lines, warn_bad_lines, skipfooter, skip_footer, doublequote, delim_whitespace, as_recarray, compact_ints, use_unsigned, low_memory, buffer_lines, memory_map, float_precision)\u001b[0m\n\u001b[0;32m    653\u001b[0m                     skip_blank_lines=skip_blank_lines)\n\u001b[0;32m    654\u001b[0m \u001b[1;33m\u001b[0m\u001b[0m\n\u001b[1;32m--> 655\u001b[1;33m         \u001b[1;32mreturn\u001b[0m \u001b[0m_read\u001b[0m\u001b[1;33m(\u001b[0m\u001b[0mfilepath_or_buffer\u001b[0m\u001b[1;33m,\u001b[0m \u001b[0mkwds\u001b[0m\u001b[1;33m)\u001b[0m\u001b[1;33m\u001b[0m\u001b[0m\n\u001b[0m\u001b[0;32m    656\u001b[0m \u001b[1;33m\u001b[0m\u001b[0m\n\u001b[0;32m    657\u001b[0m     \u001b[0mparser_f\u001b[0m\u001b[1;33m.\u001b[0m\u001b[0m__name__\u001b[0m \u001b[1;33m=\u001b[0m \u001b[0mname\u001b[0m\u001b[1;33m\u001b[0m\u001b[0m\n",
      "\u001b[1;32mC:\\Users\\alex\\Anaconda3\\lib\\site-packages\\pandas\\io\\parsers.py\u001b[0m in \u001b[0;36m_read\u001b[1;34m(filepath_or_buffer, kwds)\u001b[0m\n\u001b[0;32m    403\u001b[0m \u001b[1;33m\u001b[0m\u001b[0m\n\u001b[0;32m    404\u001b[0m     \u001b[1;31m# Create the parser.\u001b[0m\u001b[1;33m\u001b[0m\u001b[1;33m\u001b[0m\u001b[0m\n\u001b[1;32m--> 405\u001b[1;33m     \u001b[0mparser\u001b[0m \u001b[1;33m=\u001b[0m \u001b[0mTextFileReader\u001b[0m\u001b[1;33m(\u001b[0m\u001b[0mfilepath_or_buffer\u001b[0m\u001b[1;33m,\u001b[0m \u001b[1;33m**\u001b[0m\u001b[0mkwds\u001b[0m\u001b[1;33m)\u001b[0m\u001b[1;33m\u001b[0m\u001b[0m\n\u001b[0m\u001b[0;32m    406\u001b[0m \u001b[1;33m\u001b[0m\u001b[0m\n\u001b[0;32m    407\u001b[0m     \u001b[1;32mif\u001b[0m \u001b[0mchunksize\u001b[0m \u001b[1;32mor\u001b[0m \u001b[0miterator\u001b[0m\u001b[1;33m:\u001b[0m\u001b[1;33m\u001b[0m\u001b[0m\n",
      "\u001b[1;32mC:\\Users\\alex\\Anaconda3\\lib\\site-packages\\pandas\\io\\parsers.py\u001b[0m in \u001b[0;36m__init__\u001b[1;34m(self, f, engine, **kwds)\u001b[0m\n\u001b[0;32m    760\u001b[0m             \u001b[0mself\u001b[0m\u001b[1;33m.\u001b[0m\u001b[0moptions\u001b[0m\u001b[1;33m[\u001b[0m\u001b[1;34m'has_index_names'\u001b[0m\u001b[1;33m]\u001b[0m \u001b[1;33m=\u001b[0m \u001b[0mkwds\u001b[0m\u001b[1;33m[\u001b[0m\u001b[1;34m'has_index_names'\u001b[0m\u001b[1;33m]\u001b[0m\u001b[1;33m\u001b[0m\u001b[0m\n\u001b[0;32m    761\u001b[0m \u001b[1;33m\u001b[0m\u001b[0m\n\u001b[1;32m--> 762\u001b[1;33m         \u001b[0mself\u001b[0m\u001b[1;33m.\u001b[0m\u001b[0m_make_engine\u001b[0m\u001b[1;33m(\u001b[0m\u001b[0mself\u001b[0m\u001b[1;33m.\u001b[0m\u001b[0mengine\u001b[0m\u001b[1;33m)\u001b[0m\u001b[1;33m\u001b[0m\u001b[0m\n\u001b[0m\u001b[0;32m    763\u001b[0m \u001b[1;33m\u001b[0m\u001b[0m\n\u001b[0;32m    764\u001b[0m     \u001b[1;32mdef\u001b[0m \u001b[0mclose\u001b[0m\u001b[1;33m(\u001b[0m\u001b[0mself\u001b[0m\u001b[1;33m)\u001b[0m\u001b[1;33m:\u001b[0m\u001b[1;33m\u001b[0m\u001b[0m\n",
      "\u001b[1;32mC:\\Users\\alex\\Anaconda3\\lib\\site-packages\\pandas\\io\\parsers.py\u001b[0m in \u001b[0;36m_make_engine\u001b[1;34m(self, engine)\u001b[0m\n\u001b[0;32m    964\u001b[0m     \u001b[1;32mdef\u001b[0m \u001b[0m_make_engine\u001b[0m\u001b[1;33m(\u001b[0m\u001b[0mself\u001b[0m\u001b[1;33m,\u001b[0m \u001b[0mengine\u001b[0m\u001b[1;33m=\u001b[0m\u001b[1;34m'c'\u001b[0m\u001b[1;33m)\u001b[0m\u001b[1;33m:\u001b[0m\u001b[1;33m\u001b[0m\u001b[0m\n\u001b[0;32m    965\u001b[0m         \u001b[1;32mif\u001b[0m \u001b[0mengine\u001b[0m \u001b[1;33m==\u001b[0m \u001b[1;34m'c'\u001b[0m\u001b[1;33m:\u001b[0m\u001b[1;33m\u001b[0m\u001b[0m\n\u001b[1;32m--> 966\u001b[1;33m             \u001b[0mself\u001b[0m\u001b[1;33m.\u001b[0m\u001b[0m_engine\u001b[0m \u001b[1;33m=\u001b[0m \u001b[0mCParserWrapper\u001b[0m\u001b[1;33m(\u001b[0m\u001b[0mself\u001b[0m\u001b[1;33m.\u001b[0m\u001b[0mf\u001b[0m\u001b[1;33m,\u001b[0m \u001b[1;33m**\u001b[0m\u001b[0mself\u001b[0m\u001b[1;33m.\u001b[0m\u001b[0moptions\u001b[0m\u001b[1;33m)\u001b[0m\u001b[1;33m\u001b[0m\u001b[0m\n\u001b[0m\u001b[0;32m    967\u001b[0m         \u001b[1;32melse\u001b[0m\u001b[1;33m:\u001b[0m\u001b[1;33m\u001b[0m\u001b[0m\n\u001b[0;32m    968\u001b[0m             \u001b[1;32mif\u001b[0m \u001b[0mengine\u001b[0m \u001b[1;33m==\u001b[0m \u001b[1;34m'python'\u001b[0m\u001b[1;33m:\u001b[0m\u001b[1;33m\u001b[0m\u001b[0m\n",
      "\u001b[1;32mC:\\Users\\alex\\Anaconda3\\lib\\site-packages\\pandas\\io\\parsers.py\u001b[0m in \u001b[0;36m__init__\u001b[1;34m(self, src, **kwds)\u001b[0m\n\u001b[0;32m   1580\u001b[0m         \u001b[0mkwds\u001b[0m\u001b[1;33m[\u001b[0m\u001b[1;34m'allow_leading_cols'\u001b[0m\u001b[1;33m]\u001b[0m \u001b[1;33m=\u001b[0m \u001b[0mself\u001b[0m\u001b[1;33m.\u001b[0m\u001b[0mindex_col\u001b[0m \u001b[1;32mis\u001b[0m \u001b[1;32mnot\u001b[0m \u001b[1;32mFalse\u001b[0m\u001b[1;33m\u001b[0m\u001b[0m\n\u001b[0;32m   1581\u001b[0m \u001b[1;33m\u001b[0m\u001b[0m\n\u001b[1;32m-> 1582\u001b[1;33m         \u001b[0mself\u001b[0m\u001b[1;33m.\u001b[0m\u001b[0m_reader\u001b[0m \u001b[1;33m=\u001b[0m \u001b[0mparsers\u001b[0m\u001b[1;33m.\u001b[0m\u001b[0mTextReader\u001b[0m\u001b[1;33m(\u001b[0m\u001b[0msrc\u001b[0m\u001b[1;33m,\u001b[0m \u001b[1;33m**\u001b[0m\u001b[0mkwds\u001b[0m\u001b[1;33m)\u001b[0m\u001b[1;33m\u001b[0m\u001b[0m\n\u001b[0m\u001b[0;32m   1583\u001b[0m \u001b[1;33m\u001b[0m\u001b[0m\n\u001b[0;32m   1584\u001b[0m         \u001b[1;31m# XXX\u001b[0m\u001b[1;33m\u001b[0m\u001b[1;33m\u001b[0m\u001b[0m\n",
      "\u001b[1;32mpandas\\_libs\\parsers.pyx\u001b[0m in \u001b[0;36mpandas._libs.parsers.TextReader.__cinit__ (pandas\\_libs\\parsers.c:4209)\u001b[1;34m()\u001b[0m\n",
      "\u001b[1;32mpandas\\_libs\\parsers.pyx\u001b[0m in \u001b[0;36mpandas._libs.parsers.TextReader._setup_parser_source (pandas\\_libs\\parsers.c:8873)\u001b[1;34m()\u001b[0m\n",
      "\u001b[1;31mFileNotFoundError\u001b[0m: File b'HCP.csv' does not exist"
     ]
    }
   ],
   "source": [
    "def testRun():\n",
    "    df = pd.read_csv(\"HCP.csv\")\n",
    "    print(df[10:21])\n",
    "    \n",
    "testRun()\n",
    "\n",
    "df = pd.read_csv(\"HCP.csv\")\n",
    "df['Close'].max()\n",
    "\n",
    "print(\"{}.csv\".format(\"IBM\"))\n",
    "print(\"{}.csv\".format(\"AAPL\"))"
   ]
  },
  {
   "cell_type": "code",
   "execution_count": null,
   "metadata": {},
   "outputs": [],
   "source": [
    "def get_max(symbol):\n",
    "    df = pd.read_csv(\"{}.csv\".format(symbol))\n",
    "    return df[\"Close\"].max()\n",
    "\n",
    "def test_run():\n",
    "    for symbol in [\"AAPL\",\"IBM\"]:\n",
    "        print(\"Max close\")\n",
    "        print(symbol, \"$\", get_max(symbol))\n",
    "\n",
    "test_run()"
   ]
  },
  {
   "cell_type": "code",
   "execution_count": null,
   "metadata": {
    "scrolled": true
   },
   "outputs": [],
   "source": [
    "def test_run2():\n",
    "    df = pd.read_csv(\"AAPL.csv\")\n",
    "    df[\"Close\"].plot()\n",
    "    plt.show()\n",
    "\n",
    "test_run2()"
   ]
  },
  {
   "cell_type": "code",
   "execution_count": 65,
   "metadata": {
    "collapsed": true
   },
   "outputs": [
    {
     "name": "stdout",
     "output_type": "stream",
     "text": [
      "                  GOOG\n",
      "2017-01-03  786.140015\n",
      "2017-01-04  786.900024\n",
      "2017-01-05  794.020020\n",
      "2017-01-06  806.150024\n",
      "2017-01-09  806.650024\n",
      "2017-01-10  804.789978\n",
      "2017-01-11  807.909973\n",
      "2017-01-12  806.359985\n",
      "2017-01-13  807.880005\n",
      "2017-01-17  804.609985\n",
      "2017-01-18  806.070007\n",
      "2017-01-19  802.174988\n",
      "2017-01-20  805.020020\n",
      "2017-01-23  819.309998\n",
      "2017-01-24  823.869995\n",
      "2017-01-25  835.669983\n",
      "2017-01-26  832.150024\n",
      "2017-01-27  823.309998\n",
      "2017-01-30  802.320007\n",
      "2017-01-31  796.789978\n",
      "2017-02-01  795.695007\n"
     ]
    }
   ],
   "source": [
    "def load_data(symbols, start='2017-01-01', end='2017-12-31'):\n",
    "    dates = pd.date_range(start, end) #start/end dates\n",
    "    df1 = pd.DataFrame(index=dates) #empty dataframe\n",
    "    \n",
    "    for symbol in symbols:\n",
    "        #Read data into temp dataframe\n",
    "        if (not os.path.isfile(\"{}.csv\".format(symbol))):\n",
    "            df_temp = pdr.get_data_yahoo(symbol, start, end)\n",
    "            df_temp.to_csv(\"{}.csv\".format(symbol))\n",
    "            \n",
    "        df_temp = pd.read_csv(\"{}.csv\".format(symbol), index_col=\"Date\", parse_dates=True, usecols=['Date', 'Adj Close'])\n",
    "\n",
    "        #rename Adj Close to name of the symbol to prevent clash\n",
    "        df_temp = df_temp.rename(columns={'Adj Close':symbol})\n",
    "\n",
    "        #join the two dataframes using dataframe.join(), with how='inner'\n",
    "        df1 = df1.join(df_temp, how='inner')\n",
    "\n",
    "    return df1\n",
    "\n",
    "print(load_data(['GOOG']))"
   ]
  },
  {
   "cell_type": "code",
   "execution_count": 104,
   "metadata": {
    "collapsed": true
   },
   "outputs": [
    {
     "name": "stdout",
     "output_type": "stream",
     "text": [
      "                  GOOG        AMZN       ARKW        AAPL\n",
      "2017-01-03  786.140015  753.669983  25.424000  114.311760\n",
      "2017-01-04  786.900024  757.179993  26.170000  114.183815\n",
      "2017-01-05  794.020020  780.450012  26.350000  114.764473\n",
      "2017-01-06  806.150024  795.989990  26.566000  116.043915\n",
      "2017-01-09  806.650024  796.919983  26.719999  117.106812\n",
      "2017-01-10  804.789978  795.900024  26.950001  117.224907\n",
      "2017-01-11  807.909973  799.020020  26.992001  117.854782\n",
      "2017-01-12  806.359985  813.640015  26.930000  117.362694\n",
      "2017-01-13  807.880005  817.140015  27.084000  117.156021\n",
      "2017-01-17  804.609985  809.719971  26.840000  118.100822\n",
      "2017-01-18  806.070007  807.479980  26.851000  118.090981\n",
      "2017-01-19  802.174988  809.039978  27.010000  117.884300\n",
      "2017-01-20  805.020020  808.330017  27.000000  118.100822\n",
      "2017-01-23  819.309998  817.880005  27.010000  118.179558\n",
      "2017-01-24  823.869995  822.440002  27.399000  118.071304\n",
      "2017-01-25  835.669983  836.520020  27.671000  119.951073\n",
      "2017-01-26  832.150024  839.150024  27.705999  120.010132\n",
      "2017-01-27  823.309998  835.770020  27.698999  120.019958\n",
      "2017-01-30  802.320007  830.380005  27.520000  119.705017\n",
      "2017-01-31  796.789978  823.479980  27.590000  119.429459\n"
     ]
    }
   ],
   "source": [
    "def slice_df():\n",
    "    #start/end dates\n",
    "    start = '2017-01-01'\n",
    "    end = '2017-01-31'\n",
    "    \n",
    "    symbols = ['GOOG', 'AMZN', 'ARKW', 'AAPL']\n",
    "    \n",
    "    #get stock data\n",
    "    df = load_data(symbols, start, end)\n",
    "    \n",
    "    #slice by row range (dates) and columns (symbols)\n",
    "    df = df.loc[start:end, symbols]\n",
    "    \n",
    "    return df\n",
    "\n",
    "print(slice_df())"
   ]
  },
  {
   "cell_type": "code",
   "execution_count": 105,
   "metadata": {},
   "outputs": [
    {
     "data": {
      "image/png": "[encoded data removed]",
      "text/plain": [
       "<matplotlib.figure.Figure at 0x29f6daa2240>"
      ]
     },
     "metadata": {},
     "output_type": "display_data"
    }
   ],
   "source": [
    "def normalize_data(df):\n",
    "    return df / df.iloc[0]\n",
    "\n",
    "def plot_data(df, title=\"Stock Prices\"):\n",
    "    df = normalize_data(df)\n",
    "    ax = df.plot(title=title)\n",
    "    ax.set_xlabel(\"Date\")\n",
    "    ax.set_ylabel(\"Price\")\n",
    "    \n",
    "    plt.show()\n",
    "\n",
    "plot_data(slice_df())"
   ]
  },
  {
   "cell_type": "code",
   "execution_count": 148,
   "metadata": {
    "collapsed": true
   },
   "outputs": [
    {
     "name": "stdout",
     "output_type": "stream",
     "text": [
      "[[2 3 4]\n",
      " [5 6 7]]\n",
      "[[ 0.  0.  0.]\n",
      " [ 0.  0.  0.]]\n",
      "[[ 0.26691349  0.57633733  0.37107448  0.76290268]\n",
      " [ 0.95263642  0.24788414  0.53860981  0.51132652]\n",
      " [ 0.86445481  0.51706511  0.59323235  0.54926794]\n",
      " [ 0.69162983  0.28772073  0.05770129  0.9732739 ]\n",
      " [ 0.94420406  0.26503633  0.58694747  0.45560382]]\n",
      "[[-0.52541614  0.26387634  0.85583611]\n",
      " [-0.97660068 -0.18111318 -0.69894082]]\n",
      "[3 1 8 3 0]\n",
      "[[5 1 1]\n",
      " [2 9 7]]\n"
     ]
    }
   ],
   "source": [
    "def numpy_test():\n",
    "    #creates an np array\n",
    "    print(np.array([(2, 3, 4), (5, 6, 7)]))\n",
    "    \n",
    "    #creates an empty 2d array\n",
    "    print(np.empty((2, 3)))\n",
    "    \n",
    "    #creates an array full of random numbers (betweeen 0.0 and 1.0)\n",
    "    print(np.random.random((5, 4))) #pass in size as tuple\n",
    "    \n",
    "    #sample numbers from a normal (Gaussian) distribution\n",
    "    print(np.random.normal(size=(2, 3)))\n",
    "    \n",
    "    #generates random integers in an array\n",
    "    print(np.random.randint(0, 10, size=5)) #1D array\n",
    "    print(np.random.randint(0, 10, size=(2, 3))) #2D array\n",
    "\n",
    "numpy_test()"
   ]
  },
  {
   "cell_type": "code",
   "execution_count": 159,
   "metadata": {
    "collapsed": true
   },
   "outputs": [
    {
     "name": "stdout",
     "output_type": "stream",
     "text": [
      "[[ 0.03370129  0.80997904  0.72121673  0.61338889]\n",
      " [ 0.32582103  0.55386305  0.96882923  0.25013438]\n",
      " [ 0.7417487   0.1614592   0.73328581  0.02107193]\n",
      " [ 0.00783249  0.51301487  0.38788097  0.78984191]\n",
      " [ 0.15939008  0.65929391  0.09894243  0.73704084]]\n",
      "Dimensions: (5, 4)\n",
      "Rows: 5\n",
      "Columns: 4\n",
      "Elements: 20\n"
     ]
    }
   ],
   "source": [
    "#Array Attributes\n",
    "def numpy_test2():\n",
    "    a = np.random.random((5, 4)) #5 rows x 4 cols\n",
    "    print(a)\n",
    "    print(\"Dimensions:\", a.shape)\n",
    "    print(\"Rows:\", a.shape[0])\n",
    "    print(\"Columns:\", a.shape[1])\n",
    "    print(\"Elements:\", a.size)\n",
    "\n",
    "numpy_test2()"
   ]
  },
  {
   "cell_type": "code",
   "execution_count": 174,
   "metadata": {},
   "outputs": [
    {
     "name": "stdout",
     "output_type": "stream",
     "text": [
      "[[2 0 5 1]\n",
      " [1 3 4 4]\n",
      " [9 2 9 1]\n",
      " [9 3 7 5]\n",
      " [4 7 0 3]]\n",
      "Sum of elements: 79\n",
      "Sum of columns: [25 15 25 14]\n",
      "Sum of rows: [ 8 12 21 24 14]\n",
      "Minimum of columns: [1 0 0 1]\n",
      "Maximum of rows: [5 4 9 9 7]\n",
      "Mean of array: 3.95\n"
     ]
    }
   ],
   "source": [
    "#Operations on Arrays\n",
    "def test_run3():\n",
    "    np.random.seed(693) #Used to get same sequence of numbers every time\n",
    "    a = np.random.randint(0, 10, size=(5, 4)) #numbers between 0-10\n",
    "    \n",
    "    print(a)\n",
    "    print(\"Sum of elements:\", a.sum())\n",
    "    print(\"Sum of columns:\", a.sum(axis=0))\n",
    "    print(\"Sum of rows:\", a.sum(axis=1))\n",
    "    print(\"Minimum of columns:\", a.min(axis=0))\n",
    "    print(\"Maximum of rows:\", a.max(axis=1))\n",
    "    print(\"Mean of array:\", a.mean())\n",
    "\n",
    "test_run3()"
   ]
  }
 ],
 "metadata": {
  "kernelspec": {
   "display_name": "Python 3",
   "language": "python",
   "name": "python3"
  },
  "language_info": {
   "codemirror_mode": {
    "name": "ipython",
    "version": 3
   },
   "file_extension": ".py",
   "mimetype": "text/x-python",
   "name": "python",
   "nbconvert_exporter": "python",
   "pygments_lexer": "ipython3",
   "version": "3.6.1"
  }
 },
 "nbformat": 4,
 "nbformat_minor": 2
}
