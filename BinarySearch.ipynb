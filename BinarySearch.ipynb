{
 "cells": [
  {
   "cell_type": "code",
   "execution_count": 23,
   "metadata": {
    "collapsed": true
   },
   "outputs": [],
   "source": [
    "def binarySearch(A, t):\n",
    "    low = 0\n",
    "    high = len(A)\n",
    "\n",
    "    while (low+1 < high):\n",
    "        split = (low + high)//2\n",
    "\n",
    "        if (A[split] > t):\n",
    "            high = split\n",
    "        else:\n",
    "            low = split\n",
    "\n",
    "    if (A[low] == t):\n",
    "        print(\"Value found\")\n",
    "    else:\n",
    "        print(\"Value not found\")"
   ]
  },
  {
   "cell_type": "code",
   "execution_count": 3,
   "metadata": {
    "collapsed": true
   },
   "outputs": [],
   "source": [
    "#for reading files with large amounts of numbers\n",
    "\n",
    "#file = open(\"{}\".format(input(\"Enter file name: \")))\n",
    "#df = file.read().split(\", \")\n",
    "#arr = []\n",
    "#for num in df:\n",
    "#    num = int(num)\n",
    "#    arr.append(num)"
   ]
  },
  {
   "cell_type": "code",
   "execution_count": 25,
   "metadata": {},
   "outputs": [
    {
     "name": "stdout",
     "output_type": "stream",
     "text": [
      "Search: 125\n",
      "Value found\n"
     ]
    }
   ],
   "source": [
    "arr = [125, 62, 71, 91, 12, 119, 34]\n",
    "arr.sort()\n",
    "x = input(\"Search: \") #takes a number as input to search in list\n",
    "try:\n",
    "    intVal = int(x)\n",
    "    binarySearch(arr, intVal)\n",
    "except ValueError:\n",
    "    print(\"Input needs to be a number\")"
   ]
  }
 ],
 "metadata": {
  "kernelspec": {
   "display_name": "Python 3",
   "language": "python",
   "name": "python3"
  },
  "language_info": {
   "codemirror_mode": {
    "name": "ipython",
    "version": 3
   },
   "file_extension": ".py",
   "mimetype": "text/x-python",
   "name": "python",
   "nbconvert_exporter": "python",
   "pygments_lexer": "ipython3",
   "version": "3.7.0"
  }
 },
 "nbformat": 4,
 "nbformat_minor": 2
}
