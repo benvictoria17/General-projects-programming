{
 "cells": [
  {
   "cell_type": "code",
   "execution_count": 2,
   "metadata": {
    "collapsed": true
   },
   "outputs": [],
   "source": [
    "import random\n",
    "import time"
   ]
  },
  {
   "cell_type": "code",
   "execution_count": 4,
   "metadata": {},
   "outputs": [
    {
     "name": "stdout",
     "output_type": "stream",
     "text": [
      "9.257187128067017\n"
     ]
    }
   ],
   "source": [
    "L = random.sample(range(10000), 10000) #randomly generated list\n",
    "start = time.time() #start timer\n",
    "\n",
    "def insertionSort(L):\n",
    "    for i in range(1, len(L)):\n",
    "        for j in reversed(range(i)):\n",
    "            if (L[j+1] < L[j]):\n",
    "                L[j], L[j+1] = L[j+1], L[j]\n",
    "            else:\n",
    "                break  \n",
    "\n",
    "insertionSort(L) \n",
    "end = time.time() #end timer\n",
    "\n",
    "print(end-start) #speed of algorithm\n",
    "#print(L) #sorted list"
   ]
  },
  {
   "cell_type": "code",
   "execution_count": 3,
   "metadata": {},
   "outputs": [
    {
     "name": "stdout",
     "output_type": "stream",
     "text": [
      "0.06374549865722656\n"
     ]
    }
   ],
   "source": [
    "L = random.sample(range(10000), 10000) #randomly generated list\n",
    "start = time.time() #start timer\n",
    "\n",
    "def mergeSort(alist):\n",
    "    if len(alist)>1:\n",
    "\n",
    "        mid = len(alist)//2\n",
    "        \n",
    "        # Splits the original list in half to get two\n",
    "        lefthalf = alist[:mid]\n",
    "        righthalf = alist[mid:]\n",
    "        \n",
    "        # Recursion to get two sorted halfs\n",
    "        mergeSort(lefthalf)\n",
    "        mergeSort(righthalf)\n",
    "        \n",
    "        # This is the merge of two sorted halfs\n",
    "        i=0\n",
    "        j=0\n",
    "        k=0\n",
    "        while i < len(lefthalf) and j < len(righthalf):\n",
    "            if lefthalf[i] < righthalf[j]:\n",
    "                alist[k]=lefthalf[i]\n",
    "                i=i+1\n",
    "            else:\n",
    "                alist[k]=righthalf[j]\n",
    "                j=j+1\n",
    "            k=k+1\n",
    "\n",
    "        while i < len(lefthalf):\n",
    "            alist[k]=lefthalf[i]\n",
    "            i=i+1\n",
    "            k=k+1\n",
    "\n",
    "        while j < len(righthalf):\n",
    "            alist[k]=righthalf[j]\n",
    "            j=j+1\n",
    "            k=k+1\n",
    "\n",
    "mergeSort(L)\n",
    "end = time.time() #end timer\n",
    "\n",
    "print(end-start) #time it takes\n",
    "#print(alist) #sorted list"
   ]
  }
 ],
 "metadata": {
  "kernelspec": {
   "display_name": "Python 3",
   "language": "python",
   "name": "python3"
  },
  "language_info": {
   "codemirror_mode": {
    "name": "ipython",
    "version": 3
   },
   "file_extension": ".py",
   "mimetype": "text/x-python",
   "name": "python",
   "nbconvert_exporter": "python",
   "pygments_lexer": "ipython3",
   "version": "3.6.1"
  }
 },
 "nbformat": 4,
 "nbformat_minor": 2
}
