{
 "cells": [
  {
   "cell_type": "code",
   "execution_count": 14,
   "metadata": {
    "collapsed": true
   },
   "outputs": [],
   "source": [
    "class Food(object):\n",
    "    def __init__(self, n, v, w):\n",
    "        self.name = n\n",
    "        self.value = v\n",
    "        self.weight = w\n",
    "    \n",
    "    def getValue(self):\n",
    "        return self.value;\n",
    "    \n",
    "    def getWeight(self):\n",
    "        return self.weight;\n",
    "    \n",
    "    def density(self):\n",
    "        return self.value / self.weight;\n",
    "    \n",
    "    def __repr__(self):\n",
    "        return \"(\"+ self.name + \", \" + str(self.value) + \", \" + str(self.weight) +\")\";"
   ]
  },
  {
   "cell_type": "code",
   "execution_count": 25,
   "metadata": {},
   "outputs": [],
   "source": [
    "def buildMenu(names, values, calories):\n",
    "    menu = []\n",
    "    for i in range(len(values)):\n",
    "        menu.append(Food(names[i], values[i], calories[i]))\n",
    "    \n",
    "    return menu"
   ]
  },
  {
   "cell_type": "code",
   "execution_count": 26,
   "metadata": {},
   "outputs": [
    {
     "name": "stdout",
     "output_type": "stream",
     "text": [
      "[(hotdog, 5, 100), (apple, 10, 20)]\n"
     ]
    }
   ],
   "source": [
    "f = Food(\"hotdog\", 5, 10)\n",
    "m = buildMenu([\"hotdog\", \"apple\"], [5, 10], [100, 20])\n",
    "\n",
    "print(m)"
   ]
  }
 ],
 "metadata": {
  "kernelspec": {
   "display_name": "Python 3",
   "language": "python",
   "name": "python3"
  },
  "language_info": {
   "codemirror_mode": {
    "name": "ipython",
    "version": 3
   },
   "file_extension": ".py",
   "mimetype": "text/x-python",
   "name": "python",
   "nbconvert_exporter": "python",
   "pygments_lexer": "ipython3",
   "version": "3.6.1"
  }
 },
 "nbformat": 4,
 "nbformat_minor": 2
}
