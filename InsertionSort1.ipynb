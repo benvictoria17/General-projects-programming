{
 "cells": [
  {
   "cell_type": "code",
   "execution_count": 14,
   "metadata": {
    "scrolled": true
   },
   "outputs": [
    {
     "name": "stdout",
     "output_type": "stream",
     "text": [
      "[1, 2, 3, 6, 7, 9]\n"
     ]
    }
   ],
   "source": [
    "A = [3, 1, 6, 7, 2, 9] #initialize a list\n",
    "\n",
    "for i in range(1, len(A)): #algorithm\n",
    "    for j in reversed(range(i)): \n",
    "        if (A[j+1] < A[j]):\n",
    "            A[j+1], A[j] = A[j], A[j+1]\n",
    "        else:\n",
    "            break\n",
    "\n",
    "print(A)"
   ]
  }
 ],
 "metadata": {
  "kernelspec": {
   "display_name": "Python 3",
   "language": "python",
   "name": "python3"
  },
  "language_info": {
   "codemirror_mode": {
    "name": "ipython",
    "version": 3
   },
   "file_extension": ".py",
   "mimetype": "text/x-python",
   "name": "python",
   "nbconvert_exporter": "python",
   "pygments_lexer": "ipython3",
   "version": "3.6.1"
  }
 },
 "nbformat": 4,
 "nbformat_minor": 2
}
