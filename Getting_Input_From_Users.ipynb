{
  "nbformat": 4,
  "nbformat_minor": 0,
  "metadata": {
    "colab": {
      "name": "Getting Input From Users ",
      "provenance": [],
      "authorship_tag": "ABX9TyNpzeM5f0AoD09dET8nujmg",
      "include_colab_link": true
    },
    "kernelspec": {
      "name": "python3",
      "display_name": "Python 3"
    }
  },
  "cells": [
    {
      "cell_type": "markdown",
      "metadata": {
        "id": "view-in-github",
        "colab_type": "text"
      },
      "source": [
        "<a href=\"https://colab.research.google.com/github/benvictoria21/General-projects-programming/blob/master/Getting_Input_From_Users.ipynb\" target=\"_parent\"><img src=\"https://colab.research.google.com/assets/colab-badge.svg\" alt=\"Open In Colab\"/></a>"
      ]
    },
    {
      "cell_type": "code",
      "metadata": {
        "colab": {
          "base_uri": "https://localhost:8080/"
        },
        "id": "InVo4wQaZdDu",
        "outputId": "61d77420-afc6-4b0a-c0f1-9bf994263ec1"
      },
      "source": [
        "name = input(\"Enter your name: \")\n",
        "print(\"Hello \" + name + \"!\")"
      ],
      "execution_count": 1,
      "outputs": [
        {
          "output_type": "stream",
          "text": [
            "Enter your name: Ben\n",
            "Hello Ben!\n"
          ],
          "name": "stdout"
        }
      ]
    },
    {
      "cell_type": "code",
      "metadata": {
        "colab": {
          "base_uri": "https://localhost:8080/"
        },
        "id": "uAvnYK_kZeFM",
        "outputId": "3d099a65-d329-4a81-eac3-090be85bf874"
      },
      "source": [
        "name = input(\"Enter your name: \")\n",
        "age = input(\"Enter your age:\")\n",
        "print(\"Hello \" + name + \"! You are \" + age)"
      ],
      "execution_count": 4,
      "outputs": [
        {
          "output_type": "stream",
          "text": [
            "Enter your name: ben\n",
            "Enter your age:25\n",
            "Hello ben! You are 25\n"
          ],
          "name": "stdout"
        }
      ]
    }
  ]
}