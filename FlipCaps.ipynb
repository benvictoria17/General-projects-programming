{
 "cells": [
  {
   "cell_type": "code",
   "execution_count": 1,
   "metadata": {},
   "outputs": [
    {
     "name": "stdout",
     "output_type": "stream",
     "text": [
      "Guys from 2 to 5 flip your caps.\n",
      "Guys from 7 to 7 flip your caps.\n"
     ]
    }
   ],
   "source": [
    "#Two-Pass v1\n",
    "\n",
    "def flip(capList):\n",
    "    fInt = 0\n",
    "    bInt = 0\n",
    "    \n",
    "    fOrders = []\n",
    "    bOrders = []\n",
    "    \n",
    "    for i in range(len(capList)):\n",
    "        if (capList[i] == \"F\" and (i+1==len(capList) or capList[i+1] != \"F\")):\n",
    "            fInt +=1\n",
    "            fOrders.append(i)\n",
    "            \n",
    "        if (capList[i] == \"B\" and (i+1==len(capList) or capList[i+1] != \"B\")):\n",
    "            bInt +=1\n",
    "            bOrders.append(i)\n",
    "    \n",
    "    if (fInt <= bInt):\n",
    "        for i in range(len(fOrders)):\n",
    "            print(\"Guys from\", bOrders[i]+1, \"to\", fOrders[i], \"flip your caps.\")\n",
    "    \n",
    "    if (fInt > bInt):\n",
    "        for i in range(len(bOrders)):\n",
    "            print(\"Guys from\", fOrders[i]+1, \"to\", bOrders[i], \"flip your caps.\")\n",
    "    \n",
    "\n",
    "t = [\"F\", \"F\", \"B\", \"B\", \"B\", \"B\", \"F\", \"B\", \"F\", \"F\"]\n",
    "flip(t)"
   ]
  },
  {
   "cell_type": "code",
   "execution_count": 5,
   "metadata": {},
   "outputs": [
    {
     "name": "stdout",
     "output_type": "stream",
     "text": [
      "Guys from 2 to 3 flip your hats\n",
      "Guys from 7 to 8 flip your hats\n"
     ]
    }
   ],
   "source": [
    "#Two-Pass v2\n",
    "\n",
    "def flip(capList):\n",
    "    \n",
    "    fOrders = []\n",
    "    bOrders = []\n",
    "    \n",
    "    i = 0\n",
    "    j = 0\n",
    "    \n",
    "    while(i<len(capList)):\n",
    "        if (j<len(capList) and capList[j] == capList[i]): #same stretch\n",
    "            j += 1\n",
    "        else: \n",
    "            if (capList[i] == \"F\"):\n",
    "                fOrders.append([i,j-1])\n",
    "            else:\n",
    "                bOrders.append([i,j-1])\n",
    "            i = j\n",
    "    \n",
    "    if (len(fOrders) < len(bOrders)):\n",
    "        for t in fOrders:\n",
    "            print(\"Guys from\", t[0], \"to\", t[1], \"flip your hats\")\n",
    "    else:\n",
    "        for t in bOrders:\n",
    "            print(\"Guys from\", t[0], \"to\", t[1], \"flip your hats\")\n",
    "    \n",
    "\n",
    "t = [\"F\", \"F\", \"B\", \"B\", \"F\", \"F\", \"F\", \"B\", \"B\"]\n",
    "flip(t)"
   ]
  },
  {
   "cell_type": "code",
   "execution_count": 83,
   "metadata": {},
   "outputs": [
    {
     "name": "stdout",
     "output_type": "stream",
     "text": [
      "Guys from 1 to 1 flip your hats\n",
      "Guys from 4 to 5 flip your hats\n"
     ]
    }
   ],
   "source": [
    "#One-Pass v1\n",
    "\n",
    "def flip(capList):\n",
    "    firstEl = capList[0]\n",
    "    switch = False\n",
    "    \n",
    "    for i in range(1, len(capList)):\n",
    "        if (capList[i] != firstEl): #we are inside a good stretch\n",
    "            if (switch == False): #we only want to print the 'Guys from' message for the starting element of the stretch\n",
    "                                  #if switch==False, we have the starting element of the stretch.\n",
    "                                  #if switch==True, we have some other element of the stretch.\n",
    "                print(\"Guys from\", i, end=' ')\n",
    "                switch = True\n",
    "        else: #bad stretch\n",
    "            if(switch == True): #we just finished a good stretch, and are at the start element of the bad stretch\n",
    "                print(\"to\", i-1, \"flip your hats\") #we only want to write this when we meet the first elem of the bad stretch\n",
    "            switch = False #switching to False will stop us from printing each time we process an elem of the bad stretch\n",
    "            \n",
    "    if switch == True: #last stretch was not equal to firstEl\n",
    "        print(\"to\", len(capList)-1, \"flip your hats\")\n",
    "\n",
    "t = [\"F\", \"B\", \"F\", \"F\", \"B\", \"B\"]\n",
    "flip(t)"
   ]
  },
  {
   "cell_type": "code",
   "execution_count": 1,
   "metadata": {},
   "outputs": [
    {
     "name": "stdout",
     "output_type": "stream",
     "text": [
      "1\n",
      "6\n"
     ]
    }
   ],
   "source": [
    "#print index of start of a B stretch\n",
    "\n",
    "t = [\"F\", \"B\", \"B\", \"F\", \"F\", \"F\", \"B\", \"B\", \"F\"]\n",
    "\n",
    "inB = False\n",
    "\n",
    "for i in range(len(t)):\n",
    "    if (t[i] == \"B\" and inB == False):\n",
    "        print(i)\n",
    "        inB = True\n",
    "    if (t[i] == \"F\"):\n",
    "        inB = False"
   ]
  },
  {
   "cell_type": "code",
   "execution_count": 99,
   "metadata": {},
   "outputs": [
    {
     "name": "stdout",
     "output_type": "stream",
     "text": [
      "Start 1\n",
      "End 2\n",
      "Start 6\n",
      "End 7\n"
     ]
    }
   ],
   "source": [
    "#print index of start and end of a B stretch\n",
    "\n",
    "t = [\"F\", \"B\", \"B\", \"F\", \"F\", \"F\", \"B\", \"B\", \"F\"]\n",
    "\n",
    "inB = False\n",
    "\n",
    "for i in range(len(t)):\n",
    "    if (t[i] == \"B\" and inB == False):\n",
    "        print(\"Start\", i)\n",
    "        inB = True\n",
    "    if (t[i] == \"F\"):\n",
    "        #how to determine this is the first F after a B stretch?\n",
    "        if (inB == True):\n",
    "            print(\"End\", i-1)\n",
    "        inB = False"
   ]
  },
  {
   "cell_type": "code",
   "execution_count": 25,
   "metadata": {},
   "outputs": [
    {
     "name": "stdout",
     "output_type": "stream",
     "text": [
      "6A3O4U4I3S10H4B5X4V6W5P10Z3M9Q3X\n"
     ]
    }
   ],
   "source": [
    "#Run-Length encoding\n",
    "def runLengthEncode(s):\n",
    "    result = ''\n",
    "    count = 1\n",
    "    \n",
    "    for i in range(1, len(s)):\n",
    "        if (s[i] == s[i-1]):\n",
    "            count += 1\n",
    "            if (i == len(s)-1):\n",
    "                result += str(count) + s[i]\n",
    "        else:\n",
    "            result += str(count) + s[i-1]\n",
    "            count = 1\n",
    "    \n",
    "    return result\n",
    "\n",
    "print(runLengthEncode('AAAAAAOOOUUUUIIIISSSHHHHHHHHHHBBBBXXXXXVVVVWWWWWWPPPPPZZZZZZZZZZMMMQQQQQQQQQXXX'))"
   ]
  },
  {
   "cell_type": "code",
   "execution_count": 32,
   "metadata": {},
   "outputs": [
    {
     "name": "stdout",
     "output_type": "stream",
     "text": [
      "AAAAAAOOOUUUUIIIISSSHHHHHHHHHHBBBBXXXXXVVVVWWWWWWPPPPPZZZZZZZZZZMMMQQQQQQQQQXXX\n"
     ]
    }
   ],
   "source": [
    "#Run-Length decoding\n",
    "def runLengthDecode(s):\n",
    "    result = ''\n",
    "    num = ''\n",
    "    \n",
    "    for i in range(len(s)):\n",
    "        if (s[i].isalpha() == False):\n",
    "            num += s[i]\n",
    "        else:\n",
    "            num = int(num)\n",
    "            result += s[i] * num\n",
    "            num = ''\n",
    "    \n",
    "    return result\n",
    "\n",
    "print(runLengthDecode('6A3O4U4I3S10H4B5X4V6W5P10Z3M9Q3X'))"
   ]
  }
 ],
 "metadata": {
  "kernelspec": {
   "display_name": "Python 3",
   "language": "python",
   "name": "python3"
  },
  "language_info": {
   "codemirror_mode": {
    "name": "ipython",
    "version": 3
   },
   "file_extension": ".py",
   "mimetype": "text/x-python",
   "name": "python",
   "nbconvert_exporter": "python",
   "pygments_lexer": "ipython3",
   "version": "3.6.1"
  }
 },
 "nbformat": 4,
 "nbformat_minor": 2
}
