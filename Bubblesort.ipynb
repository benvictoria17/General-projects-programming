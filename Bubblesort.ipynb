{
 "cells": [
  {
   "cell_type": "code",
   "execution_count": 4,
   "metadata": {},
   "outputs": [
    {
     "name": "stdout",
     "output_type": "stream",
     "text": [
      "Enter an array element: 3\n",
      "Enter an array element: 1\n",
      "Enter an array element: 5\n",
      "Enter an array element: 6\n",
      "Enter an array element: 2\n"
     ]
    }
   ],
   "source": [
    "#create a list from user input\n",
    "array = []\n",
    "for i in range(5): \n",
    "    num = input(\"Enter an array element: \")\n",
    "    array.append(num)\n",
    "intArray = [int(x) for x in array] #turns list of strings into int"
   ]
  },
  {
   "cell_type": "code",
   "execution_count": 3,
   "metadata": {},
   "outputs": [
    {
     "name": "stdout",
     "output_type": "stream",
     "text": [
      "[1, 1, 2, 3, 3]\n"
     ]
    }
   ],
   "source": [
    "#run kernel above for this to work\n",
    "def bubbleSort(list):\n",
    "    isSorted = False\n",
    "    lastUnsorted = len(list) - 1\n",
    "    \n",
    "    while (isSorted == False):\n",
    "        isSorted = True\n",
    "        \n",
    "        for i in range(lastUnsorted):\n",
    "            if (list[i] > list[i+1]):\n",
    "                list[i], list[i+1] = list[i+1], list[i]\n",
    "                isSorted = False\n",
    "        \n",
    "        lastUnsorted -= 1\n",
    "\n",
    "bubbleSort(intArray)\n",
    "print(intArray)"
   ]
  }
 ],
 "metadata": {
  "kernelspec": {
   "display_name": "Python 3",
   "language": "python",
   "name": "python3"
  },
  "language_info": {
   "codemirror_mode": {
    "name": "ipython",
    "version": 3
   },
   "file_extension": ".py",
   "mimetype": "text/x-python",
   "name": "python",
   "nbconvert_exporter": "python",
   "pygments_lexer": "ipython3",
   "version": "3.6.1"
  }
 },
 "nbformat": 4,
 "nbformat_minor": 2
}
