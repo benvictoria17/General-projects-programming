{
 "cells": [
  {
   "cell_type": "code",
   "execution_count": 45,
   "metadata": {
    "collapsed": true
   },
   "outputs": [],
   "source": [
    "def isSortedAsc(a):\n",
    "    for i in range(1, len(a), 1):\n",
    "        if (a[i] <= a[i-1]):\n",
    "            return False\n",
    "    return True\n",
    "\n",
    "def isSortedDesc(a):\n",
    "    for i in range(1, len(a), 1):\n",
    "        if (a[i] > a[i-1]):\n",
    "            return False\n",
    "    return True\n",
    "\n",
    "def next_bigger(n):\n",
    "    #convert number to list of digits\n",
    "    lst = [int(i) for i in str(n)]\n",
    "    \n",
    "    if (isSortedDesc(lst) == True): #if desc order, not possible\n",
    "        return -1\n",
    "    elif (isSortedAsc(lst) == True): #if asc order, swap last two digits\n",
    "        lst[-1], lst[-2] = lst[-2], lst[-1]\n",
    "        lst = map(str, lst)\n",
    "        lst = int(\"\".join(lst))\n",
    "        return lst\n",
    "    \n",
    "    #search from the right, until the number is smaller than previous and put the index in dInd\n",
    "    #put all numbers down to that index into rs list\n",
    "    rs = [lst[-1]]\n",
    "    dInd = 0\n",
    "    for i in range(len(lst)-1, 0, -1):\n",
    "        if (lst[i-1] >= lst[i]):\n",
    "            rs = [lst[i-1]] + rs\n",
    "        else:\n",
    "            dInd = i-1\n",
    "            break\n",
    "    \n",
    "    #swap the dInd with the smallest number in rs thats bigger than dInd\n",
    "    smallest = 10\n",
    "    for i in range(0, len(rs)):\n",
    "        if (rs[i] > lst[dInd] and rs[i] < smallest):\n",
    "            swapIndRs = i\n",
    "            smallest = rs[i]\n",
    "    \n",
    "    swapInd = (len(lst) - len(rs)) + swapIndRs \n",
    "    lst[dInd], lst[swapInd] = lst[swapInd], lst[dInd] #swap\n",
    "    \n",
    "    #sort the right side of the list\n",
    "    lst[dInd+1:] = sorted(lst[dInd+1:])\n",
    "    \n",
    "    #finally convert the list of digits into integer and return\n",
    "    strLst = \"\".join(str(x) for x in lst)\n",
    "    finalInt = int(strLst)\n",
    "    return finalInt"
   ]
  },
  {
   "cell_type": "code",
   "execution_count": 46,
   "metadata": {},
   "outputs": [
    {
     "name": "stdout",
     "output_type": "stream",
     "text": [
      "951614\n"
     ]
    }
   ],
   "source": [
    "print(next_bigger(951461))"
   ]
  }
 ],
 "metadata": {
  "kernelspec": {
   "display_name": "Python 3",
   "language": "python",
   "name": "python3"
  },
  "language_info": {
   "codemirror_mode": {
    "name": "ipython",
    "version": 3
   },
   "file_extension": ".py",
   "mimetype": "text/x-python",
   "name": "python",
   "nbconvert_exporter": "python",
   "pygments_lexer": "ipython3",
   "version": "3.6.1"
  }
 },
 "nbformat": 4,
 "nbformat_minor": 2
}
