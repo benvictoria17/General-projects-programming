{
 "cells": [
  {
   "cell_type": "code",
   "execution_count": 58,
   "metadata": {},
   "outputs": [],
   "source": [
    "def isOpening(s):\n",
    "    if (s == '(' or s == '[' or s == '{'):\n",
    "        return True\n",
    "    return False\n",
    "    \n",
    "def isClosing(s):\n",
    "    if (s == ')' or s == ']' or s == '}'):\n",
    "        return True\n",
    "    return False\n",
    "\n",
    "def matching(a, b):\n",
    "    if ((a == '(' and b == ')') or (a == '[' and b == ']') or (a == '{' and b == '}')):\n",
    "        return True\n",
    "    return False\n",
    "\n",
    "def validBraces(seq):\n",
    "    sArr = list(seq)\n",
    "    stack = []\n",
    "    if ((len(sArr) % 2 != 0) or (len(sArr) == 0)):\n",
    "        return False\n",
    "    elif (isOpening(sArr[0]) == False):\n",
    "        return False\n",
    "    else:\n",
    "        for b in sArr:\n",
    "            if (isOpening(b) == True):\n",
    "                stack.append(b)\n",
    "            elif (isClosing(b) == True):\n",
    "                if (len(stack) == 0):\n",
    "                    return False\n",
    "                elif (matching(stack[-1], b) == True):\n",
    "                    stack.pop()\n",
    "                else:\n",
    "                    return False\n",
    "    \n",
    "    return len(stack) == 0"
   ]
  },
  {
   "cell_type": "code",
   "execution_count": 59,
   "metadata": {},
   "outputs": [
    {
     "data": {
      "text/plain": [
       "False"
      ]
     },
     "execution_count": 59,
     "metadata": {},
     "output_type": "execute_result"
    }
   ],
   "source": [
    "validBraces(\"())({}}{()][][\")"
   ]
  }
 ],
 "metadata": {
  "kernelspec": {
   "display_name": "Python 3",
   "language": "python",
   "name": "python3"
  },
  "language_info": {
   "codemirror_mode": {
    "name": "ipython",
    "version": 3
   },
   "file_extension": ".py",
   "mimetype": "text/x-python",
   "name": "python",
   "nbconvert_exporter": "python",
   "pygments_lexer": "ipython3",
   "version": "3.6.1"
  }
 },
 "nbformat": 4,
 "nbformat_minor": 2
}
