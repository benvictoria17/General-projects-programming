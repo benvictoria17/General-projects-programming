{
 "cells": [
  {
   "cell_type": "code",
   "execution_count": 57,
   "metadata": {
    "collapsed": true
   },
   "outputs": [],
   "source": [
    "# set the schedules of the celebs\n",
    "\n",
    "intervals = [(6.0,8.0), (6.5,12.0), (6.5,7.0), (7.0,8.0), \n",
    "             (7.5,10.0), (8.0,9.0), (8.0,10.0)]"
   ]
  },
  {
   "cell_type": "code",
   "execution_count": 43,
   "metadata": {},
   "outputs": [
    {
     "name": "stdout",
     "output_type": "stream",
     "text": [
      "(6, 7) 3\n",
      "(7, 8) 4\n",
      "(8, 9) 4\n",
      "(9, 10) 3\n",
      "(10, 11) 1\n",
      "(11, 12) 1\n",
      "The best time is (7, 8) with 4 selfies.\n"
     ]
    }
   ],
   "source": [
    "# Our first approach that matches the original requirement.\n",
    "\n",
    "def num_intersects(m, intervals):\n",
    "    counter = 0\n",
    "    \n",
    "    for t in intervals:\n",
    "        if ((t[0] <= m[0] < t[1]) or (m[0] <= t[0] < m[1])):\n",
    "            counter += 1\n",
    "    \n",
    "    return counter #number of selfies at each interval\n",
    "\n",
    "mostSelfies = 0\n",
    "\n",
    "for s in range(6, 12):\n",
    "    m = (s,s+1)\n",
    "    numSelfies = num_intersects(m, intervals)\n",
    "    print(m, numSelfies)\n",
    "    \n",
    "    if (numSelfies > mostSelfies):\n",
    "        mostSelfies = numSelfies\n",
    "        bestTime = m\n",
    "    \n",
    "print(\"The best time is\", bestTime, \"with\", mostSelfies, \"selfies.\")"
   ]
  },
  {
   "cell_type": "code",
   "execution_count": 22,
   "metadata": {},
   "outputs": [
    {
     "name": "stdout",
     "output_type": "stream",
     "text": [
      "Best time to attend the party is at 7.5 : 4 celebs will be attending\n"
     ]
    }
   ],
   "source": [
    "# Book approach. This algorithm returns the best time to be at the party,\n",
    "# such that the most celebrities are attending at that time. It doesn't \n",
    "# depend on time like the approach above.\n",
    "\n",
    "def bestTimeToParty(schedule): \n",
    "    times = []\n",
    "    for c in schedule:\n",
    "        times.append((c[0],'start'))\n",
    "        times.append((c[1],'end'))\n",
    "    sortList(times)\n",
    "    maxcount, time = chooseTime(times) #can work on sorted list of times\n",
    "    print(\"Best time to attend the party is at\", time, \":\", maxcount, \n",
    "          \"celebs will be attending\")\n",
    "\n",
    "def sortList(times):\n",
    "    isSorted = False\n",
    "    lastUnsorted = len(times) - 1\n",
    "    \n",
    "    while (isSorted == False):\n",
    "        isSorted = True\n",
    "        \n",
    "        for i in range(lastUnsorted):\n",
    "            if (times[i][0] > times[i+1][0]):\n",
    "                times[i], times[i+1] = times[i+1], times[i]\n",
    "                isSorted = False\n",
    "        \n",
    "        lastUnsorted -= 1\n",
    "    \n",
    "def chooseTime(times):\n",
    "    count = maxcount = time = 0\n",
    "    \n",
    "    for t in times:\n",
    "        if (t[1] == 'start'):\n",
    "            count += 1\n",
    "        elif (t[1] == 'end'):\n",
    "            count -= 1\n",
    "        \n",
    "        if (count > maxcount):\n",
    "            maxcount = count\n",
    "            time = t[0]\n",
    "    \n",
    "    return maxcount, time\n",
    "\n",
    "\n",
    "bestTimeToParty(intervals)"
   ]
  },
  {
   "cell_type": "code",
   "execution_count": 56,
   "metadata": {},
   "outputs": [
    {
     "name": "stdout",
     "output_type": "stream",
     "text": [
      "3 celebs attending between these times.\n"
     ]
    }
   ],
   "source": [
    "# Exercise 1. Here we find the max number of celebs withing a\n",
    "# given time range.\n",
    "\n",
    "def num_intersects(intervals, ystart, yend):\n",
    "    m = (ystart,yend)\n",
    "    counter = 0\n",
    "    \n",
    "    for t in intervals:\n",
    "        if ((t[0] <= m[0] < t[1]) or (m[0] <= t[0] < m[1])):\n",
    "            counter += 1\n",
    "    \n",
    "    return counter\n",
    "\n",
    "print(num_intersects(intervals, 6.5, 7), \"celebs attending between these times.\")"
   ]
  },
  {
   "cell_type": "code",
   "execution_count": 59,
   "metadata": {},
   "outputs": [
    {
     "name": "stdout",
     "output_type": "stream",
     "text": [
      "The best time is 7.5 with 4 selfies.\n"
     ]
    }
   ],
   "source": [
    "# Exersise 2. This in an alternative way of solving the original\n",
    "# problem, but in a much shorter and more efficient solution.\n",
    "\n",
    "def num_contained(intervals, ystart):    #Returns number of times the start of an interval has been contained\n",
    "    counter = 0                          #within another interval.\n",
    "    for t in intervals:\n",
    "        if ((t[0] <= ystart < t[1])):\n",
    "            counter += 1\n",
    "    \n",
    "    return counter\n",
    "\n",
    "mostSelfies = bestTime = 0\n",
    "for t in intervals:\n",
    "    count = num_contained(intervals, t[0])\n",
    "    if (count > mostSelfies):\n",
    "        mostSelfies = count\n",
    "        bestTime = t[0]\n",
    "\n",
    "print(\"The best time is\", bestTime, \"with\", mostSelfies, \"selfies.\")"
   ]
  },
  {
   "cell_type": "code",
   "execution_count": 65,
   "metadata": {},
   "outputs": [
    {
     "name": "stdout",
     "output_type": "stream",
     "text": [
      "The best time is 8.0 with 17 weight.\n"
     ]
    }
   ],
   "source": [
    "# Exersise 3. Here there is a weight associated with each celeb. \n",
    "# Finds the time with the most weight.\n",
    "\n",
    "interval_triples = [(6.0,8.0,3), (6.5,12.0,4), (6.5,7.0,1), (7.0,8.0,5), \n",
    "             (7.5,10.0,2), (8.0,9.0,4), (8.0,10.0,7)]\n",
    "\n",
    "def num_contained(intervals, ystart):    #Returns number of times the start of an interval has been contained\n",
    "    counter = 0                          #within another interval.\n",
    "    for t in intervals:\n",
    "        if ((t[0] <= ystart < t[1])):\n",
    "            counter += t[2]\n",
    "    \n",
    "    return counter\n",
    "\n",
    "mostWeight = bestTime = 0\n",
    "for t in interval_triples:\n",
    "    count = num_contained(interval_triples, t[0])\n",
    "    if (count > mostWeight):\n",
    "        mostWeight = count\n",
    "        bestTime = t[0]\n",
    "\n",
    "print(\"The best time is\", bestTime, \"with\", mostWeight, \"weight.\")"
   ]
  }
 ],
 "metadata": {
  "kernelspec": {
   "display_name": "Python 3",
   "language": "python",
   "name": "python3"
  },
  "language_info": {
   "codemirror_mode": {
    "name": "ipython",
    "version": 3
   },
   "file_extension": ".py",
   "mimetype": "text/x-python",
   "name": "python",
   "nbconvert_exporter": "python",
   "pygments_lexer": "ipython3",
   "version": "3.7.0"
  }
 },
 "nbformat": 4,
 "nbformat_minor": 2
}
