{
 "cells": [
  {
   "cell_type": "code",
   "execution_count": 95,
   "metadata": {
    "collapsed": true
   },
   "outputs": [],
   "source": [
    "import random\n",
    "from collections import defaultdict"
   ]
  },
  {
   "cell_type": "code",
   "execution_count": 200,
   "metadata": {},
   "outputs": [
    {
     "name": "stdout",
     "output_type": "stream",
     "text": [
      "[(1, 'C'), (1, 'D'), (1, 'H'), (1, 'S'), (2, 'C'), (2, 'D'), (2, 'H'), (2, 'S'), (3, 'C'), (3, 'D'), (3, 'H'), (3, 'S'), (4, 'C'), (4, 'D'), (4, 'H'), (4, 'S'), (5, 'C'), (5, 'D'), (5, 'H'), (5, 'S'), (6, 'C'), (6, 'D'), (6, 'H'), (6, 'S'), (7, 'C'), (7, 'D'), (7, 'H'), (7, 'S'), (8, 'C'), (8, 'D'), (8, 'H'), (8, 'S'), (9, 'C'), (9, 'D'), (9, 'H'), (9, 'S'), (10, 'C'), (10, 'D'), (10, 'H'), (10, 'S'), (11, 'C'), (11, 'D'), (11, 'H'), (11, 'S'), (12, 'C'), (12, 'D'), (12, 'H'), (12, 'S'), (13, 'C'), (13, 'D'), (13, 'H'), (13, 'S')]\n"
     ]
    }
   ],
   "source": [
    "deck = []\n",
    "for rank in range(1, 14):\n",
    "    for suit in ['C','D','H','S']:\n",
    "        deck.append((rank, suit))\n",
    "print(deck)"
   ]
  },
  {
   "cell_type": "markdown",
   "metadata": {},
   "source": [
    "The following two cells are about auxiliary functions"
   ]
  },
  {
   "cell_type": "code",
   "execution_count": 204,
   "metadata": {},
   "outputs": [
    {
     "name": "stdout",
     "output_type": "stream",
     "text": [
      "[(11, 'D'), (4, 'H'), (11, 'H'), (3, 'D'), (12, 'H')]\n"
     ]
    }
   ],
   "source": [
    "def Generate5Cards():\n",
    "    indexes = random.sample(range(0, 52), 5)\n",
    "    picked = []\n",
    "    for i in indexes:\n",
    "        picked.append(deck[i])\n",
    "    return picked\n",
    "\n",
    "print(Generate5Cards())"
   ]
  },
  {
   "cell_type": "code",
   "execution_count": 218,
   "metadata": {},
   "outputs": [
    {
     "name": "stdout",
     "output_type": "stream",
     "text": [
      "[(3, 'S'), (5, 'C'), (5, 'H')]\n"
     ]
    }
   ],
   "source": [
    "def sortVals(L):\n",
    "    isSorted = False    \n",
    "    lastUnsorted = len(L)-1\n",
    "    \n",
    "    while (isSorted == False):\n",
    "        isSorted = True\n",
    "        \n",
    "        for i in range(lastUnsorted):\n",
    "            if (L[i][2] > L[i+1][2]):\n",
    "                L[i], L[i+1] = L[i+1], L[i]\n",
    "                isSorted = False\n",
    "        \n",
    "        lastUnsorted -= 1\n",
    "    \n",
    "    result = []\n",
    "    for i in L:\n",
    "        result.append((i[0],i[1]))\n",
    "    \n",
    "    return result\n",
    "\n",
    "print(sortVals([(3, 'S', 11), (5, 'H', 18), (5, 'C', 16)]))"
   ]
  },
  {
   "cell_type": "code",
   "execution_count": 305,
   "metadata": {},
   "outputs": [
    {
     "name": "stdout",
     "output_type": "stream",
     "text": [
      "Ordered List:  [(9, 'C'), (7, 'S'), (12, 'H'), (5, 'C')]\n"
     ]
    }
   ],
   "source": [
    "def AssistantOrdersCards(picked, pr = False):\n",
    "    if (pr): print(picked)\n",
    "    \n",
    "    #Pick 2 cards of the same suit from picked\n",
    "    tmp = {}\n",
    "    for i in picked:\n",
    "        if (i[1] in tmp):\n",
    "            tmp[i[1]] += 1\n",
    "        else:\n",
    "            tmp[i[1]] = 1   \n",
    "    \n",
    "    #Iterate over tmp elements to find one with count 2 or more\n",
    "    suit = None\n",
    "    for key, value in tmp.items():\n",
    "        if (value >= 2):\n",
    "            suit = key\n",
    "    if (pr): print('Suit that shows up at least twice:', suit)\n",
    "\n",
    "    #Extract two cards of the suit we found from picked\n",
    "    card1 = card2 = None\n",
    "    for i in picked:\n",
    "        if (i[1] == suit):\n",
    "            if (card1 == None):\n",
    "                card1 = i\n",
    "            elif (card2 == None):\n",
    "                card2 = i\n",
    "                break\n",
    "    if (pr): print('The two cards we extracted:', card1, card2)\n",
    "    \n",
    "    #Find the difference clockwise of the two cards\n",
    "    #Then, find which is to be revealed first and which to is to be hidden\n",
    "    hops = ma = mi = firstReveal = hiddenCard = None\n",
    "    if (card1[0]>card2[0]): \n",
    "        ma = card1\n",
    "        mi = card2\n",
    "    else:\n",
    "        ma = card2\n",
    "        mi = card1\n",
    "    \n",
    "    if (ma[0]-mi[0] <= 6):\n",
    "        firstReveal = mi\n",
    "        hiddenCard = ma\n",
    "        hops = ma[0] - mi[0]\n",
    "    else: \n",
    "        firstReveal = ma\n",
    "        hiddenCard = mi\n",
    "        hops = 13 - (ma[0] - mi[0])\n",
    "    \n",
    "    if (pr): print('firstReveal:', firstReveal, 'hiddenCard:', hiddenCard, 'hops:', hops)\n",
    "    \n",
    "    ordered = [firstReveal]\n",
    "    \n",
    "    #Find the order of the remaining three cards to return\n",
    "    picked.remove(card1)\n",
    "    picked.remove(card2)\n",
    "    small = medium = large = None\n",
    "    values = []\n",
    "    \n",
    "    #Add position-in-deck as third element to those three cards\n",
    "    for i in picked:\n",
    "        for j in range(0, len(deck)):\n",
    "            if (i == deck[j]):\n",
    "                values.append((i[0], i[1], j))\n",
    "    \n",
    "    #Sort the three cards wrt position-in-deck \n",
    "    #Return a sorted list of cards where position-in-deck cleared-out now\n",
    "    sortedVals = sortVals(values)\n",
    "    small = sortedVals[0]; medium = sortedVals[1]; large = sortedVals[2]\n",
    "    \n",
    "    #Compute the code expressing the hops\n",
    "    if (hops == 1):\n",
    "        ordered += [small,medium,large]\n",
    "    elif (hops == 2):\n",
    "        ordered += [small,large,medium]\n",
    "    elif (hops == 3):\n",
    "        ordered += [medium,small,large]\n",
    "    elif (hops == 4):\n",
    "        ordered += [medium,large,small]\n",
    "    elif (hops == 5):\n",
    "        ordered += [large,small,medium]\n",
    "    elif (hops == 6):\n",
    "        ordered += [large,medium,small]\n",
    "    \n",
    "    return ordered\n",
    "    \n",
    "print('Ordered List: ', AssistantOrdersCards( [(12, 'H'), (9, 'C'), (7, 'S'), (13, 'C'), (5, 'C')] ) )"
   ]
  },
  {
   "cell_type": "code",
   "execution_count": 306,
   "metadata": {},
   "outputs": [
    {
     "name": "stdout",
     "output_type": "stream",
     "text": [
      "(13, 'C')\n"
     ]
    }
   ],
   "source": [
    "def MagicianGuessesCard(oList):\n",
    "    hiddenSuit = oList[0][1]\n",
    "    order = None\n",
    "    a = deck.index(oList[1])\n",
    "    b = deck.index(oList[2])\n",
    "    c = deck.index(oList[3])\n",
    "                       \n",
    "    if (a < b < c):\n",
    "        order = 1\n",
    "    elif (a < c < b):\n",
    "        order = 2\n",
    "    elif (b < a < c):\n",
    "        order = 3\n",
    "    elif (c < a < b):\n",
    "        order = 4\n",
    "    elif (b < c < a):\n",
    "        order = 5\n",
    "    elif (c < b < a):\n",
    "        order = 6\n",
    "    \n",
    "    hiddenNum = oList[0][0] + order\n",
    "    if( oList[0][0] + order > 13 ):\n",
    "        hiddenNum = hiddenNum % 13\n",
    "    hiddenCard = (hiddenNum, hiddenSuit)\n",
    "    \n",
    "    return hiddenCard\n",
    "\n",
    "print(MagicianGuessesCard( [(9, 'C'), (7, 'S'), (12, 'H'), (5, 'C')] ))"
   ]
  },
  {
   "cell_type": "code",
   "execution_count": 309,
   "metadata": {},
   "outputs": [
    {
     "name": "stdout",
     "output_type": "stream",
     "text": [
      "[(9, 'C'), (7, 'S'), (12, 'H'), (5, 'C')]\n",
      "(13, 'C')\n"
     ]
    }
   ],
   "source": [
    "ordered = AssistantOrdersCards( [(12, 'H'), (9, 'C'), (7, 'S'), (13, 'C'), (5, 'C')] )\n",
    "print(ordered)\n",
    "print(MagicianGuessesCard( ordered ) )"
   ]
  }
 ],
 "metadata": {
  "kernelspec": {
   "display_name": "Python 3",
   "language": "python",
   "name": "python3"
  },
  "language_info": {
   "codemirror_mode": {
    "name": "ipython",
    "version": 3
   },
   "file_extension": ".py",
   "mimetype": "text/x-python",
   "name": "python",
   "nbconvert_exporter": "python",
   "pygments_lexer": "ipython3",
   "version": "3.6.1"
  }
 },
 "nbformat": 4,
 "nbformat_minor": 2
}
