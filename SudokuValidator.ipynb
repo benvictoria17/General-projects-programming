{
 "cells": [
  {
   "cell_type": "code",
   "execution_count": 31,
   "metadata": {},
   "outputs": [],
   "source": [
    "import numpy as np\n",
    "            \n",
    "def validCols(board):\n",
    "    for col in board:\n",
    "        cache = []\n",
    "        for n in col:\n",
    "            if (n in cache or n == 0):\n",
    "                return False\n",
    "            else:\n",
    "                cache.append(n)\n",
    "    return True\n",
    "    \n",
    "def validRows(board):\n",
    "    for i in range(0, 9):\n",
    "        cache = []\n",
    "        for col in board:\n",
    "            if (col[i] in cache or col[i] == 0):\n",
    "                return False\n",
    "            else:\n",
    "                cache.append(col[i])\n",
    "    return True\n",
    "\n",
    "def validBlock(block):\n",
    "    cache = []\n",
    "    for col in block:\n",
    "        for i in col:\n",
    "            if (i in cache):\n",
    "                return False\n",
    "            else:\n",
    "                cache.append(i)\n",
    "    return True\n",
    "    \n",
    "def validBoxes(board):\n",
    "    B = np.array(board)\n",
    "    start = [0, 0]\n",
    "    end = [3, 3]\n",
    "    for i in range(0, 3):\n",
    "        for j in range(0, 3):\n",
    "            block = B[start[0]:end[0], start[1]:end[1]]\n",
    "            if (validBlock(block) == False):\n",
    "                return False\n",
    "            start[0] += 3\n",
    "            end[0] += 3\n",
    "        start[1] += 3\n",
    "        end[1] += 3\n",
    "    return True\n",
    "    \n",
    "def validSolution(board):\n",
    "    if (validCols(board) == False):\n",
    "        return False\n",
    "    elif (validRows(board) == False):\n",
    "        return False\n",
    "    elif (validBoxes(board) == False):\n",
    "        return False\n",
    "    return True"
   ]
  }
 ],
 "metadata": {
  "kernelspec": {
   "display_name": "Python 3",
   "language": "python",
   "name": "python3"
  },
  "language_info": {
   "codemirror_mode": {
    "name": "ipython",
    "version": 3
   },
   "file_extension": ".py",
   "mimetype": "text/x-python",
   "name": "python",
   "nbconvert_exporter": "python",
   "pygments_lexer": "ipython3",
   "version": "3.6.1"
  }
 },
 "nbformat": 4,
 "nbformat_minor": 2
}
