{
 "cells": [
  {
   "cell_type": "code",
   "execution_count": 3,
   "metadata": {},
   "outputs": [
    {
     "name": "stdout",
     "output_type": "stream",
     "text": [
      "True\n"
     ]
    }
   ],
   "source": [
    "board = [[0,0,0,0],\n",
    "         [0,0,0,0],\n",
    "         [0,0,0,0],\n",
    "         [0,0,0,0]]\n",
    "\n",
    "def noConflicts(B, current, qindex):\n",
    "    n = len(B)\n",
    "    \n",
    "    #Check row of qindex\n",
    "    for j in range(current):\n",
    "        if (B[qindex][j] == 1):\n",
    "            return False\n",
    "    \n",
    "    #Check diagonal upward\n",
    "    d = current - qindex\n",
    "    for j in range(current):\n",
    "        if (0 <= j-d < n and B[j-d][j] == 1):\n",
    "            return False\n",
    "    \n",
    "    #Check diagonal downward\n",
    "    s = current + qindex\n",
    "    for j in range(current):\n",
    "        if (0 <= s-j < n and B[s-j][j] == 1):\n",
    "            return False\n",
    "    \n",
    "    return True\n",
    "\n",
    "print(noConflicts(createBoard([]), 0, 0))"
   ]
  },
  {
   "cell_type": "code",
   "execution_count": 2,
   "metadata": {},
   "outputs": [
    {
     "name": "stdout",
     "output_type": "stream",
     "text": [
      "[[0, 0, 1, 0], [1, 0, 0, 0], [0, 0, 0, 1], [0, 1, 0, 0]]\n"
     ]
    }
   ],
   "source": [
    "n = 4 #size of the board\n",
    "\n",
    "#a state is just a qindexes list of k < n numbers\n",
    "\n",
    "def createBoard(qindexes):\n",
    "    board = []\n",
    "    for i in range(0,n):\n",
    "        board.append([])\n",
    "        \n",
    "        for j in range(0,n):\n",
    "            board[i].append(0)\n",
    "        \n",
    "    \n",
    "    for i in range(0,len(qindexes)):\n",
    "        board[qindexes[i]][i] = 1\n",
    "    \n",
    "    return board\n",
    "\n",
    "print(createBoard([1,3,0,2]))"
   ]
  },
  {
   "cell_type": "code",
   "execution_count": 4,
   "metadata": {},
   "outputs": [
    {
     "name": "stdout",
     "output_type": "stream",
     "text": [
      "[1, 3, 0, 2]\n"
     ]
    }
   ],
   "source": [
    "def search():\n",
    "    frontier = [[]] #start with no queen on the board\n",
    "    while (True):\n",
    "        if (len(frontier) == 0):\n",
    "            return None\n",
    "        node = frontier.pop(0)\n",
    "        if (len(node) == n):\n",
    "            return node\n",
    "        \n",
    "        # expand node and extend frontier\n",
    "        current = len(node) #current column to add queen\n",
    "        for qindex in range(0,n):\n",
    "            if (noConflicts(createBoard(node), current, qindex) == True):\n",
    "                successor = node.copy()\n",
    "                successor.append(qindex)\n",
    "                frontier.append(successor)\n",
    "        \n",
    "print(search())"
   ]
  }
 ],
 "metadata": {
  "kernelspec": {
   "display_name": "Python 3",
   "language": "python",
   "name": "python3"
  },
  "language_info": {
   "codemirror_mode": {
    "name": "ipython",
    "version": 3
   },
   "file_extension": ".py",
   "mimetype": "text/x-python",
   "name": "python",
   "nbconvert_exporter": "python",
   "pygments_lexer": "ipython3",
   "version": "3.6.1"
  }
 },
 "nbformat": 4,
 "nbformat_minor": 2
}
